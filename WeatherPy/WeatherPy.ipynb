{
 "cells": [
  {
   "cell_type": "markdown",
   "metadata": {},
   "source": [
    "# WeatherPy\n",
    "\n",
    "---\n",
    "\n",
    "## Starter Code to Generate Random Geographic Coordinates and a List of Cities"
   ]
  },
  {
   "cell_type": "code",
   "execution_count": 1,
   "metadata": {
    "scrolled": true
   },
   "outputs": [],
   "source": [
    "# Dependencies and Setup\n",
    "import matplotlib.pyplot as plt\n",
    "import pandas as pd\n",
    "import numpy as np\n",
    "import requests\n",
    "import time\n",
    "from scipy.stats import linregress\n",
    "\n",
    "# Impor the OpenWeatherMap API key\n",
    "from api_keys import weather_api_key\n",
    "\n",
    "# Import citipy to determine the cities based on latitude and longitude\n",
    "from citipy import citipy"
   ]
  },
  {
   "cell_type": "markdown",
   "metadata": {},
   "source": [
    "### Generate the Cities List by Using the `citipy` Library"
   ]
  },
  {
   "cell_type": "code",
   "execution_count": 2,
   "metadata": {},
   "outputs": [
    {
     "name": "stdout",
     "output_type": "stream",
     "text": [
      "Number of cities in the list: 633\n"
     ]
    }
   ],
   "source": [
    "# Empty list for holding the latitude and longitude combinations\n",
    "lat_lngs = []\n",
    "\n",
    "# Empty list for holding the cities names\n",
    "cities = []\n",
    "\n",
    "# Range of latitudes and longitudes\n",
    "lat_range = (-90, 90)\n",
    "lng_range = (-180, 180)\n",
    "\n",
    "# Setting Random seed to get consistent results\n",
    "np.random.seed(444)\n",
    "\n",
    "# Create a set of random lat and lng combinations\n",
    "lats = np.random.uniform(lat_range[0], lat_range[1], size=1500)\n",
    "lngs = np.random.uniform(lng_range[0], lng_range[1], size=1500)\n",
    "lat_lngs = zip(lats, lngs)\n",
    "\n",
    "# Identify nearest city for each lat, lng combination\n",
    "for lat_lng in lat_lngs:\n",
    "    city = citipy.nearest_city(lat_lng[0], lat_lng[1]).city_name\n",
    "    \n",
    "    # If the city is unique, then add it to a our cities list\n",
    "    if city not in cities:\n",
    "        cities.append(city)\n",
    "\n",
    "# Print the city count to confirm sufficient count\n",
    "print(f\"Number of cities in the list: {len(cities)}\")"
   ]
  },
  {
   "cell_type": "code",
   "execution_count": 3,
   "metadata": {},
   "outputs": [],
   "source": [
    "weather_api_key = \"3e403d23949e2aeed6ae69a09034d505\""
   ]
  },
  {
   "cell_type": "code",
   "execution_count": 25,
   "metadata": {},
   "outputs": [
    {
     "name": "stdout",
     "output_type": "stream",
     "text": [
      "{\n",
      "    \"base\": \"stations\",\n",
      "    \"clouds\": {\n",
      "        \"all\": 51\n",
      "    },\n",
      "    \"cod\": 200,\n",
      "    \"coord\": {\n",
      "        \"lat\": 59.1167,\n",
      "        \"lon\": 159.9667\n",
      "    },\n",
      "    \"dt\": 1675648912,\n",
      "    \"id\": 2122262,\n",
      "    \"main\": {\n",
      "        \"feels_like\": -26.27,\n",
      "        \"grnd_level\": 969,\n",
      "        \"humidity\": 93,\n",
      "        \"pressure\": 1008,\n",
      "        \"sea_level\": 1008,\n",
      "        \"temp\": -19.27,\n",
      "        \"temp_max\": -19.27,\n",
      "        \"temp_min\": -19.27\n",
      "    },\n",
      "    \"name\": \"Palana\",\n",
      "    \"sys\": {\n",
      "        \"country\": \"RU\",\n",
      "        \"sunrise\": 1675631994,\n",
      "        \"sunset\": 1675662505\n",
      "    },\n",
      "    \"timezone\": 43200,\n",
      "    \"visibility\": 10000,\n",
      "    \"weather\": [\n",
      "        {\n",
      "            \"description\": \"broken clouds\",\n",
      "            \"icon\": \"04d\",\n",
      "            \"id\": 803,\n",
      "            \"main\": \"Clouds\"\n",
      "        }\n",
      "    ],\n",
      "    \"wind\": {\n",
      "        \"deg\": 30,\n",
      "        \"gust\": 5.51,\n",
      "        \"speed\": 4\n",
      "    }\n",
      "}\n"
     ]
    }
   ],
   "source": [
    "import json\n",
    "url = f\"https://api.openweathermap.org/data/2.5/weather?appid={weather_api_key}&units=metric&q=\"\n",
    "city_url = f\"{url}{cities[1]}\"\n",
    "city_weather = requests.get(city_url).json()\n",
    "print(json.dumps(city_weather, indent = 4, sort_keys = True))\n"
   ]
  },
  {
   "cell_type": "markdown",
   "metadata": {},
   "source": [
    "---"
   ]
  },
  {
   "cell_type": "markdown",
   "metadata": {},
   "source": [
    "## Requirement 1: Create Plots to Showcase the Relationship Between Weather Variables and Latitude\n",
    "\n",
    "### Use the OpenWeatherMap API to retrieve weather data from the cities list generated in the started code"
   ]
  },
  {
   "cell_type": "code",
   "execution_count": 5,
   "metadata": {},
   "outputs": [
    {
     "name": "stdout",
     "output_type": "stream",
     "text": [
      "Beginning Data Retrieval     \n",
      "-----------------------------\n",
      "Processing Record 1 of Set 1 | attawapiskat\n",
      "City not found. Skipping...\n",
      "Processing Record 2 of Set 1 | palana\n",
      "Processing Record 3 of Set 1 | butaritari\n",
      "Processing Record 4 of Set 1 | surt\n",
      "Processing Record 5 of Set 1 | albany\n",
      "Processing Record 6 of Set 1 | ushuaia\n",
      "Processing Record 7 of Set 1 | rikitea\n",
      "Processing Record 8 of Set 1 | lebu\n",
      "Processing Record 9 of Set 1 | new norfolk\n",
      "Processing Record 10 of Set 1 | punta arenas\n",
      "Processing Record 11 of Set 1 | kysyl-syr\n",
      "Processing Record 12 of Set 1 | kenai\n",
      "Processing Record 13 of Set 1 | kaeo\n",
      "Processing Record 14 of Set 1 | torbay\n",
      "Processing Record 15 of Set 1 | atuona\n",
      "Processing Record 16 of Set 1 | lubao\n",
      "Processing Record 17 of Set 1 | belushya guba\n",
      "City not found. Skipping...\n",
      "Processing Record 18 of Set 1 | hovd\n",
      "Processing Record 19 of Set 1 | bako\n",
      "Processing Record 20 of Set 1 | nantucket\n",
      "Processing Record 21 of Set 1 | lere\n",
      "Processing Record 22 of Set 1 | ipu\n",
      "Processing Record 23 of Set 1 | mehamn\n",
      "Processing Record 24 of Set 1 | andover\n",
      "Processing Record 25 of Set 1 | kodiak\n",
      "Processing Record 26 of Set 1 | longyearbyen\n",
      "Processing Record 27 of Set 1 | callaway\n",
      "Processing Record 28 of Set 1 | ploemeur\n",
      "Processing Record 29 of Set 1 | hermanus\n",
      "Processing Record 30 of Set 1 | busselton\n",
      "Processing Record 31 of Set 1 | yellowknife\n",
      "Processing Record 32 of Set 1 | provideniya\n",
      "Processing Record 33 of Set 1 | bredasdorp\n",
      "Processing Record 34 of Set 1 | barrow\n",
      "Processing Record 35 of Set 1 | victoria\n",
      "Processing Record 36 of Set 1 | ust-nera\n",
      "Processing Record 37 of Set 1 | tilichiki\n",
      "Processing Record 38 of Set 1 | nizhneyansk\n",
      "City not found. Skipping...\n",
      "Processing Record 39 of Set 1 | nevsehir\n",
      "Processing Record 40 of Set 1 | bac lieu\n",
      "Processing Record 41 of Set 1 | itarema\n",
      "Processing Record 42 of Set 1 | bengkulu\n",
      "Processing Record 43 of Set 1 | dawei\n",
      "Processing Record 44 of Set 1 | henties bay\n",
      "Processing Record 45 of Set 1 | viransehir\n",
      "Processing Record 46 of Set 1 | taolanaro\n",
      "City not found. Skipping...\n",
      "Processing Record 47 of Set 1 | tsihombe\n",
      "City not found. Skipping...\n",
      "Processing Record 48 of Set 1 | poum\n",
      "Processing Record 49 of Set 1 | taltal\n",
      "Processing Record 50 of Set 1 | makokou\n",
      "Processing Record 1 of Set 2 | ancud\n",
      "Processing Record 2 of Set 2 | kuandian\n",
      "Processing Record 3 of Set 2 | mataura\n",
      "Processing Record 4 of Set 2 | bandarbeyla\n",
      "Processing Record 5 of Set 2 | tanout\n",
      "Processing Record 6 of Set 2 | bathsheba\n",
      "Processing Record 7 of Set 2 | banda aceh\n",
      "Processing Record 8 of Set 2 | bluff\n",
      "Processing Record 9 of Set 2 | lacombe\n",
      "Processing Record 10 of Set 2 | show low\n",
      "Processing Record 11 of Set 2 | hami\n",
      "Processing Record 12 of Set 2 | shihezi\n",
      "Processing Record 13 of Set 2 | tuktoyaktuk\n",
      "Processing Record 14 of Set 2 | lompoc\n",
      "Processing Record 15 of Set 2 | redcliffe\n",
      "Processing Record 16 of Set 2 | kapaa\n",
      "Processing Record 17 of Set 2 | toora-khem\n",
      "Processing Record 18 of Set 2 | iquitos\n",
      "Processing Record 19 of Set 2 | avarua\n",
      "Processing Record 20 of Set 2 | pascagoula\n",
      "Processing Record 21 of Set 2 | katherine\n",
      "Processing Record 22 of Set 2 | port alfred\n",
      "Processing Record 23 of Set 2 | rohru\n",
      "Processing Record 24 of Set 2 | tarakan\n",
      "Processing Record 25 of Set 2 | nanortalik\n",
      "Processing Record 26 of Set 2 | san cristobal\n",
      "Processing Record 27 of Set 2 | pangai\n",
      "Processing Record 28 of Set 2 | aklavik\n",
      "Processing Record 29 of Set 2 | lawrenceburg\n",
      "Processing Record 30 of Set 2 | acari\n",
      "Processing Record 31 of Set 2 | gangotri\n",
      "City not found. Skipping...\n",
      "Processing Record 32 of Set 2 | moose factory\n",
      "Processing Record 33 of Set 2 | vardo\n",
      "Processing Record 34 of Set 2 | luderitz\n",
      "Processing Record 35 of Set 2 | leningradskiy\n",
      "Processing Record 36 of Set 2 | esperance\n",
      "Processing Record 37 of Set 2 | praia\n",
      "Processing Record 38 of Set 2 | chicama\n",
      "Processing Record 39 of Set 2 | kahului\n",
      "Processing Record 40 of Set 2 | labuan\n",
      "Processing Record 41 of Set 2 | ribeira grande\n",
      "Processing Record 42 of Set 2 | katsuura\n",
      "Processing Record 43 of Set 2 | iwaki\n",
      "Processing Record 44 of Set 2 | vila velha\n",
      "Processing Record 45 of Set 2 | dzhusaly\n",
      "City not found. Skipping...\n",
      "Processing Record 46 of Set 2 | college\n",
      "Processing Record 47 of Set 2 | exu\n",
      "Processing Record 48 of Set 2 | cherskiy\n",
      "Processing Record 49 of Set 2 | upernavik\n",
      "Processing Record 50 of Set 2 | georgetown\n",
      "Processing Record 1 of Set 3 | labuhan\n",
      "Processing Record 2 of Set 3 | arraial do cabo\n",
      "Processing Record 3 of Set 3 | elizabeth city\n",
      "Processing Record 4 of Set 3 | pisco\n",
      "Processing Record 5 of Set 3 | kargopol\n",
      "Processing Record 6 of Set 3 | mys shmidta\n",
      "City not found. Skipping...\n",
      "Processing Record 7 of Set 3 | geraldton\n",
      "Processing Record 8 of Set 3 | mar del plata\n",
      "Processing Record 9 of Set 3 | areosa\n",
      "Processing Record 10 of Set 3 | namibe\n",
      "Processing Record 11 of Set 3 | chokurdakh\n",
      "Processing Record 12 of Set 3 | korla\n",
      "Processing Record 13 of Set 3 | qaanaaq\n",
      "Processing Record 14 of Set 3 | chuy\n",
      "Processing Record 15 of Set 3 | preobrazheniye\n",
      "Processing Record 16 of Set 3 | filadelfia\n",
      "Processing Record 17 of Set 3 | zeya\n",
      "Processing Record 18 of Set 3 | caldwell\n",
      "Processing Record 19 of Set 3 | fez\n",
      "Processing Record 20 of Set 3 | dunedin\n",
      "Processing Record 21 of Set 3 | surab\n",
      "Processing Record 22 of Set 3 | nemuro\n",
      "Processing Record 23 of Set 3 | ngunguru\n",
      "Processing Record 24 of Set 3 | tasiilaq\n",
      "Processing Record 25 of Set 3 | cabo san lucas\n",
      "Processing Record 26 of Set 3 | sarakhs\n",
      "Processing Record 27 of Set 3 | norman wells\n",
      "Processing Record 28 of Set 3 | carnarvon\n",
      "Processing Record 29 of Set 3 | sioux lookout\n",
      "Processing Record 30 of Set 3 | lebedinyy\n",
      "Processing Record 31 of Set 3 | bethel\n",
      "Processing Record 32 of Set 3 | conde\n",
      "Processing Record 33 of Set 3 | nicoya\n",
      "Processing Record 34 of Set 3 | saint-philippe\n",
      "Processing Record 35 of Set 3 | san quintin\n",
      "Processing Record 36 of Set 3 | puerto ayora\n",
      "Processing Record 37 of Set 3 | saint-augustin\n",
      "Processing Record 38 of Set 3 | faanui\n",
      "Processing Record 39 of Set 3 | thompson\n",
      "Processing Record 40 of Set 3 | arlit\n",
      "Processing Record 41 of Set 3 | werda\n",
      "Processing Record 42 of Set 3 | yamethin\n",
      "Processing Record 43 of Set 3 | vilyuysk\n",
      "Processing Record 44 of Set 3 | vaini\n",
      "Processing Record 45 of Set 3 | jamestown\n",
      "Processing Record 46 of Set 3 | afmadu\n",
      "City not found. Skipping...\n",
      "Processing Record 47 of Set 3 | husavik\n",
      "Processing Record 48 of Set 3 | touros\n",
      "Processing Record 49 of Set 3 | xihe\n",
      "Processing Record 50 of Set 3 | wilmington\n",
      "Processing Record 1 of Set 4 | amderma\n",
      "City not found. Skipping...\n",
      "Processing Record 2 of Set 4 | chongwe\n",
      "Processing Record 3 of Set 4 | shimoda\n",
      "Processing Record 4 of Set 4 | chimbote\n",
      "Processing Record 5 of Set 4 | tumannyy\n",
      "City not found. Skipping...\n",
      "Processing Record 6 of Set 4 | severo-kurilsk\n",
      "Processing Record 7 of Set 4 | agadir\n",
      "Processing Record 8 of Set 4 | araquari\n",
      "Processing Record 9 of Set 4 | cumaribo\n",
      "City not found. Skipping...\n",
      "Processing Record 10 of Set 4 | tukums\n",
      "Processing Record 11 of Set 4 | hualmay\n",
      "Processing Record 12 of Set 4 | cape town\n",
      "Processing Record 13 of Set 4 | lujiang\n",
      "Processing Record 14 of Set 4 | lavrentiya\n",
      "Processing Record 15 of Set 4 | bur gabo\n",
      "City not found. Skipping...\n",
      "Processing Record 16 of Set 4 | makakilo city\n",
      "Processing Record 17 of Set 4 | sentyabrskiy\n",
      "City not found. Skipping...\n",
      "Processing Record 18 of Set 4 | zaplavnoye\n",
      "Processing Record 19 of Set 4 | portland\n",
      "Processing Record 20 of Set 4 | fleetwood\n",
      "Processing Record 21 of Set 4 | huarmey\n",
      "Processing Record 22 of Set 4 | otradnoye\n",
      "Processing Record 23 of Set 4 | kathmandu\n",
      "Processing Record 24 of Set 4 | ornskoldsvik\n",
      "Processing Record 25 of Set 4 | marsh harbour\n",
      "Processing Record 26 of Set 4 | senanga\n",
      "Processing Record 27 of Set 4 | camacha\n",
      "Processing Record 28 of Set 4 | east london\n",
      "Processing Record 29 of Set 4 | avera\n",
      "Processing Record 30 of Set 4 | bairiki\n",
      "Processing Record 31 of Set 4 | ambulu\n",
      "Processing Record 32 of Set 4 | hasaki\n",
      "Processing Record 33 of Set 4 | upington\n",
      "Processing Record 34 of Set 4 | bambous virieux\n",
      "Processing Record 35 of Set 4 | saskylakh\n",
      "Processing Record 36 of Set 4 | axim\n",
      "Processing Record 37 of Set 4 | kavieng\n",
      "Processing Record 38 of Set 4 | sibolga\n",
      "Processing Record 39 of Set 4 | sikasso\n",
      "Processing Record 40 of Set 4 | vaitupu\n"
     ]
    },
    {
     "name": "stdout",
     "output_type": "stream",
     "text": [
      "City not found. Skipping...\n",
      "Processing Record 41 of Set 4 | llanes\n",
      "Processing Record 42 of Set 4 | caiaponia\n",
      "Processing Record 43 of Set 4 | gravelbourg\n",
      "Processing Record 44 of Set 4 | talah\n",
      "City not found. Skipping...\n",
      "Processing Record 45 of Set 4 | richards bay\n",
      "Processing Record 46 of Set 4 | hofn\n",
      "Processing Record 47 of Set 4 | anito\n",
      "Processing Record 48 of Set 4 | daru\n",
      "Processing Record 49 of Set 4 | praya\n",
      "Processing Record 50 of Set 4 | vila\n",
      "Processing Record 1 of Set 5 | hobart\n",
      "Processing Record 2 of Set 5 | qandala\n",
      "Processing Record 3 of Set 5 | garchitorena\n",
      "Processing Record 4 of Set 5 | dikson\n",
      "Processing Record 5 of Set 5 | bhag\n",
      "Processing Record 6 of Set 5 | castro\n",
      "Processing Record 7 of Set 5 | khonuu\n",
      "City not found. Skipping...\n",
      "Processing Record 8 of Set 5 | puerto gaitan\n",
      "Processing Record 9 of Set 5 | karasjok\n",
      "Processing Record 10 of Set 5 | masindi\n",
      "Processing Record 11 of Set 5 | ust-kulom\n",
      "Processing Record 12 of Set 5 | maningrida\n",
      "Processing Record 13 of Set 5 | mackenzie\n",
      "Processing Record 14 of Set 5 | tessalit\n",
      "Processing Record 15 of Set 5 | cantagalo\n",
      "Processing Record 16 of Set 5 | hosakote\n",
      "Processing Record 17 of Set 5 | umzimvubu\n",
      "City not found. Skipping...\n",
      "Processing Record 18 of Set 5 | bull savanna\n",
      "Processing Record 19 of Set 5 | pumiao\n",
      "Processing Record 20 of Set 5 | ballina\n",
      "Processing Record 21 of Set 5 | lasa\n",
      "Processing Record 22 of Set 5 | nguiu\n",
      "City not found. Skipping...\n",
      "Processing Record 23 of Set 5 | dedovichi\n",
      "Processing Record 24 of Set 5 | cuiluan\n",
      "Processing Record 25 of Set 5 | cheuskiny\n",
      "City not found. Skipping...\n",
      "Processing Record 26 of Set 5 | fort nelson\n",
      "Processing Record 27 of Set 5 | angoche\n",
      "Processing Record 28 of Set 5 | port elizabeth\n",
      "Processing Record 29 of Set 5 | hilo\n",
      "Processing Record 30 of Set 5 | samusu\n",
      "City not found. Skipping...\n",
      "Processing Record 31 of Set 5 | trairi\n",
      "Processing Record 32 of Set 5 | marawi\n",
      "Processing Record 33 of Set 5 | grand gaube\n",
      "Processing Record 34 of Set 5 | rio gallegos\n",
      "Processing Record 35 of Set 5 | hattiesburg\n",
      "Processing Record 36 of Set 5 | saldanha\n",
      "Processing Record 37 of Set 5 | carutapera\n",
      "Processing Record 38 of Set 5 | fare\n",
      "Processing Record 39 of Set 5 | berlevag\n",
      "Processing Record 40 of Set 5 | camopi\n",
      "Processing Record 41 of Set 5 | malwan\n",
      "City not found. Skipping...\n",
      "Processing Record 42 of Set 5 | brazzaville\n",
      "Processing Record 43 of Set 5 | la ronge\n",
      "Processing Record 44 of Set 5 | cidreira\n",
      "Processing Record 45 of Set 5 | snezhnogorsk\n",
      "Processing Record 46 of Set 5 | mekhe\n",
      "Processing Record 47 of Set 5 | galbshtadt\n",
      "Processing Record 48 of Set 5 | brokopondo\n",
      "Processing Record 49 of Set 5 | rocha\n",
      "Processing Record 50 of Set 5 | bartlesville\n",
      "Processing Record 1 of Set 6 | vao\n",
      "Processing Record 2 of Set 6 | saint-ambroise\n",
      "Processing Record 3 of Set 6 | meulaboh\n",
      "Processing Record 4 of Set 6 | gobindpur\n",
      "Processing Record 5 of Set 6 | kalmunai\n",
      "Processing Record 6 of Set 6 | kidal\n",
      "Processing Record 7 of Set 6 | wanning\n",
      "Processing Record 8 of Set 6 | nadym\n",
      "Processing Record 9 of Set 6 | kawalu\n",
      "Processing Record 10 of Set 6 | beaverlodge\n",
      "Processing Record 11 of Set 6 | oriximina\n",
      "Processing Record 12 of Set 6 | saint-georges\n",
      "Processing Record 13 of Set 6 | clyde river\n",
      "Processing Record 14 of Set 6 | hithadhoo\n",
      "Processing Record 15 of Set 6 | davila\n",
      "Processing Record 16 of Set 6 | mahebourg\n",
      "Processing Record 17 of Set 6 | bay roberts\n",
      "Processing Record 18 of Set 6 | soe\n",
      "Processing Record 19 of Set 6 | yolombo\n",
      "Processing Record 20 of Set 6 | katobu\n",
      "Processing Record 21 of Set 6 | constitucion\n",
      "Processing Record 22 of Set 6 | khandyga\n",
      "Processing Record 23 of Set 6 | ankang\n",
      "Processing Record 24 of Set 6 | saint anthony\n",
      "Processing Record 25 of Set 6 | porto novo\n",
      "Processing Record 26 of Set 6 | markova\n",
      "Processing Record 27 of Set 6 | tiksi\n",
      "Processing Record 28 of Set 6 | mpanda\n",
      "Processing Record 29 of Set 6 | staryy nadym\n",
      "Processing Record 30 of Set 6 | mlandizi\n",
      "Processing Record 31 of Set 6 | san patricio\n",
      "Processing Record 32 of Set 6 | mount gambier\n",
      "Processing Record 33 of Set 6 | arroyo\n",
      "Processing Record 34 of Set 6 | bodden town\n",
      "Processing Record 35 of Set 6 | sao joao da barra\n",
      "Processing Record 36 of Set 6 | kiruna\n",
      "Processing Record 37 of Set 6 | nikolskoye\n",
      "Processing Record 38 of Set 6 | gorzow wielkopolski\n",
      "Processing Record 39 of Set 6 | mayo\n",
      "Processing Record 40 of Set 6 | kavaratti\n",
      "Processing Record 41 of Set 6 | yurino\n",
      "Processing Record 42 of Set 6 | teguise\n",
      "Processing Record 43 of Set 6 | lata\n",
      "Processing Record 44 of Set 6 | saint george\n",
      "Processing Record 45 of Set 6 | andenes\n",
      "Processing Record 46 of Set 6 | chelno-vershiny\n",
      "Processing Record 47 of Set 6 | haibowan\n",
      "City not found. Skipping...\n",
      "Processing Record 48 of Set 6 | jumla\n",
      "Processing Record 49 of Set 6 | barra do garcas\n",
      "Processing Record 50 of Set 6 | olafsvik\n",
      "Processing Record 1 of Set 7 | cape canaveral\n",
      "Processing Record 2 of Set 7 | ketchikan\n",
      "Processing Record 3 of Set 7 | ponta do sol\n",
      "Processing Record 4 of Set 7 | stephenville crossing\n",
      "Processing Record 5 of Set 7 | buqayq\n",
      "City not found. Skipping...\n",
      "Processing Record 6 of Set 7 | rincon\n",
      "Processing Record 7 of Set 7 | mattru\n",
      "Processing Record 8 of Set 7 | vestmannaeyjar\n",
      "Processing Record 9 of Set 7 | kloulklubed\n",
      "Processing Record 10 of Set 7 | bongandanga\n",
      "Processing Record 11 of Set 7 | dicabisagan\n",
      "Processing Record 12 of Set 7 | ilulissat\n",
      "Processing Record 13 of Set 7 | higuey\n",
      "City not found. Skipping...\n",
      "Processing Record 14 of Set 7 | bar harbor\n",
      "Processing Record 15 of Set 7 | gizo\n",
      "Processing Record 16 of Set 7 | barentsburg\n",
      "City not found. Skipping...\n",
      "Processing Record 17 of Set 7 | vaitape\n",
      "Processing Record 18 of Set 7 | coquimbo\n",
      "Processing Record 19 of Set 7 | phan rang\n",
      "City not found. Skipping...\n",
      "Processing Record 20 of Set 7 | nkayi\n",
      "Processing Record 21 of Set 7 | fort saint john\n",
      "City not found. Skipping...\n",
      "Processing Record 22 of Set 7 | santa cruz\n",
      "Processing Record 23 of Set 7 | souillac\n",
      "Processing Record 24 of Set 7 | mahalapye\n",
      "Processing Record 25 of Set 7 | ko samui\n",
      "Processing Record 26 of Set 7 | salyan\n",
      "Processing Record 27 of Set 7 | villa bruzual\n",
      "Processing Record 28 of Set 7 | hai duong\n",
      "Processing Record 29 of Set 7 | vila do maio\n",
      "Processing Record 30 of Set 7 | san andres\n",
      "Processing Record 31 of Set 7 | bitung\n",
      "Processing Record 32 of Set 7 | ponta delgada\n",
      "Processing Record 33 of Set 7 | prince rupert\n",
      "Processing Record 34 of Set 7 | samalaeulu\n",
      "City not found. Skipping...\n",
      "Processing Record 35 of Set 7 | boca do acre\n",
      "Processing Record 36 of Set 7 | fort abbas\n",
      "Processing Record 37 of Set 7 | gurgan\n",
      "City not found. Skipping...\n",
      "Processing Record 38 of Set 7 | morondava\n",
      "Processing Record 39 of Set 7 | solnechnyy\n",
      "Processing Record 40 of Set 7 | ha giang\n",
      "Processing Record 41 of Set 7 | tuatapere\n",
      "Processing Record 42 of Set 7 | haines junction\n",
      "Processing Record 43 of Set 7 | dutlwe\n",
      "Processing Record 44 of Set 7 | cotonou\n",
      "Processing Record 45 of Set 7 | hibbing\n",
      "Processing Record 46 of Set 7 | faya\n",
      "Processing Record 47 of Set 7 | kilrush\n",
      "Processing Record 48 of Set 7 | san vicente\n",
      "Processing Record 49 of Set 7 | nazare\n",
      "Processing Record 50 of Set 7 | sogne\n",
      "Processing Record 1 of Set 8 | garissa\n",
      "Processing Record 2 of Set 8 | ponte de sor\n",
      "Processing Record 3 of Set 8 | bangolo\n",
      "Processing Record 4 of Set 8 | de-kastri\n",
      "Processing Record 5 of Set 8 | shebunino\n",
      "Processing Record 6 of Set 8 | margate\n",
      "Processing Record 7 of Set 8 | sola\n",
      "Processing Record 8 of Set 8 | simao\n",
      "Processing Record 9 of Set 8 | wagga wagga\n",
      "Processing Record 10 of Set 8 | sembe\n",
      "Processing Record 11 of Set 8 | fiche\n",
      "Processing Record 12 of Set 8 | cockburn town\n",
      "Processing Record 13 of Set 8 | opuwo\n",
      "Processing Record 14 of Set 8 | ambovombe\n",
      "Processing Record 15 of Set 8 | kato khorion\n",
      "Processing Record 16 of Set 8 | noumea\n",
      "Processing Record 17 of Set 8 | fortuna\n",
      "Processing Record 18 of Set 8 | santa maria\n",
      "Processing Record 19 of Set 8 | asyut\n",
      "Processing Record 20 of Set 8 | verkhovye\n",
      "Processing Record 21 of Set 8 | loa janan\n",
      "Processing Record 22 of Set 8 | tougue\n",
      "Processing Record 23 of Set 8 | baculin\n",
      "Processing Record 24 of Set 8 | illoqqortoormiut\n",
      "City not found. Skipping...\n",
      "Processing Record 25 of Set 8 | bara\n",
      "Processing Record 26 of Set 8 | mezen\n",
      "Processing Record 27 of Set 8 | almaznyy\n",
      "Processing Record 28 of Set 8 | comodoro rivadavia\n"
     ]
    },
    {
     "name": "stdout",
     "output_type": "stream",
     "text": [
      "Processing Record 29 of Set 8 | alice springs\n",
      "Processing Record 30 of Set 8 | lucea\n",
      "Processing Record 31 of Set 8 | muros\n",
      "Processing Record 32 of Set 8 | rylsk\n",
      "Processing Record 33 of Set 8 | amapa\n",
      "Processing Record 34 of Set 8 | kyren\n",
      "Processing Record 35 of Set 8 | codrington\n",
      "Processing Record 36 of Set 8 | hutchinson\n",
      "Processing Record 37 of Set 8 | mitu\n",
      "Processing Record 38 of Set 8 | guerrero negro\n",
      "Processing Record 39 of Set 8 | sweetwater\n",
      "Processing Record 40 of Set 8 | asau\n",
      "Processing Record 41 of Set 8 | marrakesh\n",
      "Processing Record 42 of Set 8 | likasi\n",
      "Processing Record 43 of Set 8 | saint-michel-des-saints\n",
      "Processing Record 44 of Set 8 | mapastepec\n",
      "Processing Record 45 of Set 8 | necochea\n",
      "Processing Record 46 of Set 8 | ozinki\n",
      "Processing Record 47 of Set 8 | puerto escondido\n",
      "Processing Record 48 of Set 8 | santa cruz cabralia\n",
      "Processing Record 49 of Set 8 | mount pleasant\n",
      "Processing Record 50 of Set 8 | narsaq\n",
      "Processing Record 1 of Set 9 | san juan del sur\n",
      "Processing Record 2 of Set 9 | nagato\n",
      "Processing Record 3 of Set 9 | dien bien\n",
      "City not found. Skipping...\n",
      "Processing Record 4 of Set 9 | komsomolskiy\n",
      "Processing Record 5 of Set 9 | mareeba\n",
      "Processing Record 6 of Set 9 | palabuhanratu\n",
      "City not found. Skipping...\n",
      "Processing Record 7 of Set 9 | grand river south east\n",
      "City not found. Skipping...\n",
      "Processing Record 8 of Set 9 | moree\n",
      "Processing Record 9 of Set 9 | smithers\n",
      "Processing Record 10 of Set 9 | kabwe\n",
      "Processing Record 11 of Set 9 | gerede\n",
      "Processing Record 12 of Set 9 | batagay\n",
      "Processing Record 13 of Set 9 | dobryanka\n",
      "Processing Record 14 of Set 9 | tumaco\n",
      "Processing Record 15 of Set 9 | yerbogachen\n",
      "Processing Record 16 of Set 9 | lalibela\n",
      "Processing Record 17 of Set 9 | airai\n",
      "Processing Record 18 of Set 9 | aquiraz\n",
      "Processing Record 19 of Set 9 | port hardy\n",
      "Processing Record 20 of Set 9 | fujin\n",
      "Processing Record 21 of Set 9 | matagami\n",
      "Processing Record 22 of Set 9 | talas\n",
      "Processing Record 23 of Set 9 | salaga\n",
      "Processing Record 24 of Set 9 | wenling\n",
      "Processing Record 25 of Set 9 | damara\n",
      "Processing Record 26 of Set 9 | mount isa\n",
      "Processing Record 27 of Set 9 | yulara\n",
      "Processing Record 28 of Set 9 | kamenskoye\n",
      "City not found. Skipping...\n",
      "Processing Record 29 of Set 9 | sibu\n",
      "Processing Record 30 of Set 9 | zhigansk\n",
      "Processing Record 31 of Set 9 | qasigiannguit\n",
      "Processing Record 32 of Set 9 | puerto baquerizo moreno\n",
      "Processing Record 33 of Set 9 | marcona\n",
      "City not found. Skipping...\n",
      "Processing Record 34 of Set 9 | zarinsk\n",
      "Processing Record 35 of Set 9 | rungata\n",
      "City not found. Skipping...\n",
      "Processing Record 36 of Set 9 | jennings\n",
      "Processing Record 37 of Set 9 | tahe\n",
      "Processing Record 38 of Set 9 | moyeuvre-grande\n",
      "Processing Record 39 of Set 9 | marabba\n",
      "Processing Record 40 of Set 9 | coruripe\n",
      "Processing Record 41 of Set 9 | numan\n",
      "Processing Record 42 of Set 9 | alugan\n",
      "Processing Record 43 of Set 9 | coahuayana\n",
      "Processing Record 44 of Set 9 | verkhovazhye\n",
      "Processing Record 45 of Set 9 | paucartambo\n",
      "City not found. Skipping...\n",
      "Processing Record 46 of Set 9 | rawannawi\n",
      "City not found. Skipping...\n",
      "Processing Record 47 of Set 9 | warqla\n",
      "City not found. Skipping...\n",
      "Processing Record 48 of Set 9 | along\n",
      "Processing Record 49 of Set 9 | chitrakonda\n",
      "Processing Record 50 of Set 9 | chimoio\n",
      "Processing Record 1 of Set 10 | salalah\n",
      "Processing Record 2 of Set 10 | planaltina\n",
      "Processing Record 3 of Set 10 | vanimo\n",
      "Processing Record 4 of Set 10 | kamenka\n",
      "Processing Record 5 of Set 10 | sisimiut\n",
      "Processing Record 6 of Set 10 | tromso\n",
      "Processing Record 7 of Set 10 | hihifo\n",
      "City not found. Skipping...\n",
      "Processing Record 8 of Set 10 | zyryanka\n",
      "Processing Record 9 of Set 10 | akom\n",
      "Processing Record 10 of Set 10 | ahuimanu\n",
      "Processing Record 11 of Set 10 | iowa city\n",
      "Processing Record 12 of Set 10 | bolungarvik\n",
      "City not found. Skipping...\n",
      "Processing Record 13 of Set 10 | belawan\n",
      "Processing Record 14 of Set 10 | koumac\n",
      "Processing Record 15 of Set 10 | grindavik\n",
      "Processing Record 16 of Set 10 | iqaluit\n",
      "Processing Record 17 of Set 10 | biryusinsk\n",
      "Processing Record 18 of Set 10 | toltestava\n",
      "Processing Record 19 of Set 10 | uvira\n",
      "Processing Record 20 of Set 10 | bhan\n",
      "Processing Record 21 of Set 10 | honiara\n",
      "Processing Record 22 of Set 10 | say\n",
      "Processing Record 23 of Set 10 | usinsk\n",
      "Processing Record 24 of Set 10 | sitka\n",
      "Processing Record 25 of Set 10 | belmonte\n",
      "Processing Record 26 of Set 10 | beidao\n",
      "Processing Record 27 of Set 10 | ugoofaaru\n",
      "Processing Record 28 of Set 10 | novouzensk\n",
      "Processing Record 29 of Set 10 | lagoa\n",
      "Processing Record 30 of Set 10 | buloh kasap\n",
      "Processing Record 31 of Set 10 | vila franca do campo\n",
      "Processing Record 32 of Set 10 | kushima\n",
      "Processing Record 33 of Set 10 | beyneu\n",
      "Processing Record 34 of Set 10 | lundazi\n",
      "Processing Record 35 of Set 10 | tall kayf\n",
      "Processing Record 36 of Set 10 | adeje\n",
      "Processing Record 37 of Set 10 | baykit\n",
      "Processing Record 38 of Set 10 | salinopolis\n",
      "Processing Record 39 of Set 10 | cabedelo\n",
      "Processing Record 40 of Set 10 | sao filipe\n",
      "Processing Record 41 of Set 10 | barbar\n",
      "City not found. Skipping...\n",
      "Processing Record 42 of Set 10 | chipinge\n",
      "Processing Record 43 of Set 10 | camana\n",
      "Processing Record 44 of Set 10 | lima\n",
      "Processing Record 45 of Set 10 | adamas\n",
      "Processing Record 46 of Set 10 | tucuman\n",
      "Processing Record 47 of Set 10 | quatre cocos\n",
      "Processing Record 48 of Set 10 | odweyne\n",
      "Processing Record 49 of Set 10 | sinjar\n",
      "Processing Record 50 of Set 10 | mullaitivu\n",
      "City not found. Skipping...\n",
      "Processing Record 1 of Set 11 | coihaique\n",
      "Processing Record 2 of Set 11 | chapais\n",
      "Processing Record 3 of Set 11 | le mans\n",
      "Processing Record 4 of Set 11 | flinders\n",
      "Processing Record 5 of Set 11 | altay\n",
      "Processing Record 6 of Set 11 | arrecife\n",
      "Processing Record 7 of Set 11 | trzebnica\n",
      "Processing Record 8 of Set 11 | cururupu\n",
      "Processing Record 9 of Set 11 | karratha\n",
      "Processing Record 10 of Set 11 | naze\n",
      "Processing Record 11 of Set 11 | beloha\n",
      "Processing Record 12 of Set 11 | rafai\n",
      "Processing Record 13 of Set 11 | vostok\n",
      "Processing Record 14 of Set 11 | laguna\n",
      "Processing Record 15 of Set 11 | dracena\n",
      "Processing Record 16 of Set 11 | tabiauea\n",
      "City not found. Skipping...\n",
      "Processing Record 17 of Set 11 | klaksvik\n",
      "Processing Record 18 of Set 11 | waterloo\n",
      "Processing Record 19 of Set 11 | hammerfest\n",
      "Processing Record 20 of Set 11 | yerani\n",
      "City not found. Skipping...\n",
      "Processing Record 21 of Set 11 | aripuana\n",
      "Processing Record 22 of Set 11 | lahat\n",
      "Processing Record 23 of Set 11 | gaogou\n",
      "Processing Record 24 of Set 11 | novyy nekouz\n",
      "Processing Record 25 of Set 11 | matara\n",
      "Processing Record 26 of Set 11 | togur\n",
      "Processing Record 27 of Set 11 | la rioja\n",
      "Processing Record 28 of Set 11 | fairbanks\n",
      "Processing Record 29 of Set 11 | pangnirtung\n",
      "Processing Record 30 of Set 11 | riverton\n",
      "Processing Record 31 of Set 11 | sorkjosen\n",
      "Processing Record 32 of Set 11 | okhotsk\n",
      "Processing Record 33 of Set 11 | loukhi\n",
      "Processing Record 34 of Set 11 | havoysund\n",
      "Processing Record 35 of Set 11 | kutum\n",
      "Processing Record 36 of Set 11 | beringovskiy\n",
      "Processing Record 37 of Set 11 | la spezia\n",
      "Processing Record 38 of Set 11 | cedar city\n",
      "Processing Record 39 of Set 11 | baruun-urt\n",
      "Processing Record 40 of Set 11 | kuldiga\n",
      "Processing Record 41 of Set 11 | ternate\n",
      "Processing Record 42 of Set 11 | svetlogorsk\n",
      "Processing Record 43 of Set 11 | senador jose porfirio\n",
      "Processing Record 44 of Set 11 | turka\n",
      "Processing Record 45 of Set 11 | boyolangu\n",
      "Processing Record 46 of Set 11 | neuquen\n",
      "Processing Record 47 of Set 11 | mgachi\n",
      "Processing Record 48 of Set 11 | nikki\n",
      "Processing Record 49 of Set 11 | mackay\n",
      "Processing Record 50 of Set 11 | gogrial\n",
      "Processing Record 1 of Set 12 | nabire\n",
      "Processing Record 2 of Set 12 | aracaju\n",
      "Processing Record 3 of Set 12 | hambantota\n",
      "Processing Record 4 of Set 12 | namatanai\n",
      "Processing Record 5 of Set 12 | oxapampa\n",
      "Processing Record 6 of Set 12 | maniitsoq\n",
      "Processing Record 7 of Set 12 | linares\n",
      "Processing Record 8 of Set 12 | nelson bay\n",
      "Processing Record 9 of Set 12 | naryan-mar\n",
      "Processing Record 10 of Set 12 | ust-tsilma\n",
      "Processing Record 11 of Set 12 | luena\n",
      "Processing Record 12 of Set 12 | west bay\n",
      "Processing Record 13 of Set 12 | sao jose da coroa grande\n",
      "Processing Record 14 of Set 12 | mayya\n",
      "Processing Record 15 of Set 12 | tukrah\n"
     ]
    },
    {
     "name": "stdout",
     "output_type": "stream",
     "text": [
      "Processing Record 16 of Set 12 | tidore\n",
      "City not found. Skipping...\n",
      "Processing Record 17 of Set 12 | tottori\n",
      "Processing Record 18 of Set 12 | bartica\n",
      "Processing Record 19 of Set 12 | paita\n",
      "Processing Record 20 of Set 12 | ambilobe\n",
      "Processing Record 21 of Set 12 | bam\n",
      "Processing Record 22 of Set 12 | dauphin\n",
      "Processing Record 23 of Set 12 | khandbari\n",
      "Processing Record 24 of Set 12 | wahiawa\n",
      "Processing Record 25 of Set 12 | kudahuvadhoo\n",
      "Processing Record 26 of Set 12 | tiarei\n",
      "Processing Record 27 of Set 12 | sorvag\n",
      "City not found. Skipping...\n",
      "Processing Record 28 of Set 12 | quincy\n",
      "Processing Record 29 of Set 12 | temaraia\n",
      "City not found. Skipping...\n",
      "Processing Record 30 of Set 12 | ola\n",
      "Processing Record 31 of Set 12 | udala\n",
      "Processing Record 32 of Set 12 | taoudenni\n",
      "Processing Record 33 of Set 12 | grand-lahou\n",
      "Processing Record 34 of Set 12 | alofi\n",
      "Processing Record 35 of Set 12 | aanekoski\n",
      "Processing Record 36 of Set 12 | dombarovskiy\n",
      "Processing Record 37 of Set 12 | ferkessedougou\n",
      "Processing Record 38 of Set 12 | saleaula\n",
      "City not found. Skipping...\n",
      "Processing Record 39 of Set 12 | nishihara\n",
      "Processing Record 40 of Set 12 | artyom\n",
      "Processing Record 41 of Set 12 | new port richey\n",
      "Processing Record 42 of Set 12 | port macquarie\n",
      "Processing Record 43 of Set 12 | olinda\n",
      "Processing Record 44 of Set 12 | khatanga\n",
      "Processing Record 45 of Set 12 | pharr\n",
      "Processing Record 46 of Set 12 | srinagar\n",
      "Processing Record 47 of Set 12 | alma\n",
      "Processing Record 48 of Set 12 | ayan\n",
      "Processing Record 49 of Set 12 | flin flon\n",
      "Processing Record 50 of Set 12 | ituni\n",
      "City not found. Skipping...\n",
      "Processing Record 1 of Set 13 | boke\n",
      "Processing Record 2 of Set 13 | rawson\n",
      "Processing Record 3 of Set 13 | nogales\n",
      "Processing Record 4 of Set 13 | astana\n",
      "Processing Record 5 of Set 13 | bonthe\n",
      "Processing Record 6 of Set 13 | vredendal\n",
      "Processing Record 7 of Set 13 | broome\n",
      "Processing Record 8 of Set 13 | saint-francois\n",
      "Processing Record 9 of Set 13 | alice\n",
      "Processing Record 10 of Set 13 | goicea\n",
      "Processing Record 11 of Set 13 | shaoyang\n",
      "Processing Record 12 of Set 13 | seoul\n",
      "Processing Record 13 of Set 13 | balakhta\n",
      "Processing Record 14 of Set 13 | santa barbara\n",
      "Processing Record 15 of Set 13 | tudela\n",
      "Processing Record 16 of Set 13 | botwood\n",
      "Processing Record 17 of Set 13 | jasper\n",
      "Processing Record 18 of Set 13 | sur\n",
      "Processing Record 19 of Set 13 | gongzhuling\n",
      "Processing Record 20 of Set 13 | louis trichardt\n",
      "Processing Record 21 of Set 13 | kirakira\n",
      "Processing Record 22 of Set 13 | bilibino\n",
      "Processing Record 23 of Set 13 | tarko-sale\n",
      "Processing Record 24 of Set 13 | sao gabriel da cachoeira\n",
      "Processing Record 25 of Set 13 | xingcheng\n",
      "Processing Record 26 of Set 13 | merke\n",
      "Processing Record 27 of Set 13 | dandong\n",
      "Processing Record 28 of Set 13 | deputatskiy\n",
      "Processing Record 29 of Set 13 | krasnovishersk\n",
      "Processing Record 30 of Set 13 | velesin\n",
      "Processing Record 31 of Set 13 | kaitangata\n",
      "Processing Record 32 of Set 13 | moberly\n",
      "Processing Record 33 of Set 13 | eyl\n"
     ]
    }
   ],
   "source": [
    "# Set the API base URL\n",
    "url = f\"https://api.openweathermap.org/data/2.5/weather?appid={weather_api_key}&units=metric&q=\"\n",
    "\n",
    "# Define an empty list to fetch the weather data for each city\n",
    "city_data = []\n",
    "\n",
    "# Print to logger\n",
    "print(\"Beginning Data Retrieval     \")\n",
    "print(\"-----------------------------\")\n",
    "\n",
    "# Create counters\n",
    "record_count = 1\n",
    "set_count = 1\n",
    "\n",
    "# Loop through all the cities in our list to fetch weather data\n",
    "for i, city in enumerate(cities):\n",
    "        \n",
    "    # Group cities in sets of 50 for logging purposes\n",
    "    if (i % 50 == 0 and i >= 50):\n",
    "        set_count += 1\n",
    "        record_count = 1\n",
    "\n",
    "    # Create endpoint URL with each city\n",
    "    city_url = f\"{url}{city}\"\n",
    "    \n",
    "    # Log the url, record, and set numbers\n",
    "    print(\"Processing Record %s of Set %s | %s\" % (record_count, set_count, city))\n",
    "\n",
    "    # Add 1 to the record count\n",
    "    record_count += 1\n",
    "\n",
    "    # Run an API request for each of the cities\n",
    "    try:\n",
    "        # Parse the JSON and retrieve data\n",
    "        city_weather = requests.get(city_url).json()\n",
    "\n",
    "        # Parse out latitude, longitude, max temp, humidity, cloudiness, wind speed, country, and date\n",
    "        city_lat = city_weather[\"coord\"][\"lat\"]\n",
    "        city_lng = city_weather[\"coord\"][\"lon\"]\n",
    "        city_max_temp = city_weather[\"main\"][\"temp_max\"]\n",
    "        city_humidity = city_weather[\"main\"][\"humidity\"]\n",
    "        city_clouds = city_weather[\"clouds\"][\"all\"]\n",
    "        city_wind = city_weather[\"wind\"][\"speed\"]\n",
    "        city_country = city_weather[\"sys\"][\"country\"]\n",
    "        city_date = city_weather[\"dt\"]\n",
    "\n",
    "        # Append the City information into city_data list\n",
    "        city_data.append({\"City\": city, \n",
    "                          \"Lat\": city_lat, \n",
    "                          \"Lng\": city_lng, \n",
    "                          \"Max Temp\": city_max_temp,\n",
    "                          \"Humidity\": city_humidity,\n",
    "                          \"Cloudiness\": city_clouds,\n",
    "                          \"Wind Speed\": city_wind,\n",
    "                          \"Country\": city_country,\n",
    "                          \"Date\": city_date})\n",
    "\n",
    "    # If an error is experienced, skip the city\n",
    "    except:\n",
    "        print(\"City not found. Skipping...\")\n",
    "        pass\n",
    "              \n",
    "# Indicate that Data Loading is complete \n",
    "print(\"-----------------------------\")\n",
    "print(\"Data Retrieval Complete      \")\n",
    "print(\"-----------------------------\")"
   ]
  },
  {
   "cell_type": "code",
   "execution_count": 44,
   "metadata": {},
   "outputs": [
    {
     "name": "stdout",
     "output_type": "stream",
     "text": [
      "[]\n"
     ]
    }
   ],
   "source": [
    "print(city_data)"
   ]
  },
  {
   "cell_type": "code",
   "execution_count": 6,
   "metadata": {},
   "outputs": [
    {
     "data": {
      "text/plain": [
       "City          582\n",
       "Lat           582\n",
       "Lng           582\n",
       "Max Temp      582\n",
       "Humidity      582\n",
       "Cloudiness    582\n",
       "Wind Speed    582\n",
       "Country       582\n",
       "Date          582\n",
       "dtype: int64"
      ]
     },
     "execution_count": 6,
     "metadata": {},
     "output_type": "execute_result"
    }
   ],
   "source": [
    "# Convert the cities weather data into a Pandas DataFrame\n",
    "city_data_df = pd.DataFrame(city_data)\n",
    "\n",
    "# Show Record Count\n",
    "city_data_df.count()"
   ]
  },
  {
   "cell_type": "code",
   "execution_count": 7,
   "metadata": {},
   "outputs": [
    {
     "data": {
      "text/html": [
       "<div>\n",
       "<style scoped>\n",
       "    .dataframe tbody tr th:only-of-type {\n",
       "        vertical-align: middle;\n",
       "    }\n",
       "\n",
       "    .dataframe tbody tr th {\n",
       "        vertical-align: top;\n",
       "    }\n",
       "\n",
       "    .dataframe thead th {\n",
       "        text-align: right;\n",
       "    }\n",
       "</style>\n",
       "<table border=\"1\" class=\"dataframe\">\n",
       "  <thead>\n",
       "    <tr style=\"text-align: right;\">\n",
       "      <th></th>\n",
       "      <th>City</th>\n",
       "      <th>Lat</th>\n",
       "      <th>Lng</th>\n",
       "      <th>Max Temp</th>\n",
       "      <th>Humidity</th>\n",
       "      <th>Cloudiness</th>\n",
       "      <th>Wind Speed</th>\n",
       "      <th>Country</th>\n",
       "      <th>Date</th>\n",
       "    </tr>\n",
       "  </thead>\n",
       "  <tbody>\n",
       "    <tr>\n",
       "      <th>0</th>\n",
       "      <td>palana</td>\n",
       "      <td>59.1167</td>\n",
       "      <td>159.9667</td>\n",
       "      <td>-19.93</td>\n",
       "      <td>93</td>\n",
       "      <td>68</td>\n",
       "      <td>3.45</td>\n",
       "      <td>RU</td>\n",
       "      <td>1675646295</td>\n",
       "    </tr>\n",
       "    <tr>\n",
       "      <th>1</th>\n",
       "      <td>butaritari</td>\n",
       "      <td>3.0707</td>\n",
       "      <td>172.7902</td>\n",
       "      <td>26.91</td>\n",
       "      <td>83</td>\n",
       "      <td>100</td>\n",
       "      <td>7.60</td>\n",
       "      <td>KI</td>\n",
       "      <td>1675646195</td>\n",
       "    </tr>\n",
       "    <tr>\n",
       "      <th>2</th>\n",
       "      <td>surt</td>\n",
       "      <td>31.2089</td>\n",
       "      <td>16.5887</td>\n",
       "      <td>13.59</td>\n",
       "      <td>54</td>\n",
       "      <td>90</td>\n",
       "      <td>8.04</td>\n",
       "      <td>LY</td>\n",
       "      <td>1675646301</td>\n",
       "    </tr>\n",
       "    <tr>\n",
       "      <th>3</th>\n",
       "      <td>albany</td>\n",
       "      <td>42.6001</td>\n",
       "      <td>-73.9662</td>\n",
       "      <td>4.94</td>\n",
       "      <td>58</td>\n",
       "      <td>100</td>\n",
       "      <td>2.11</td>\n",
       "      <td>US</td>\n",
       "      <td>1675645949</td>\n",
       "    </tr>\n",
       "    <tr>\n",
       "      <th>4</th>\n",
       "      <td>ushuaia</td>\n",
       "      <td>-54.8000</td>\n",
       "      <td>-68.3000</td>\n",
       "      <td>2.49</td>\n",
       "      <td>90</td>\n",
       "      <td>72</td>\n",
       "      <td>0.92</td>\n",
       "      <td>AR</td>\n",
       "      <td>1675646150</td>\n",
       "    </tr>\n",
       "  </tbody>\n",
       "</table>\n",
       "</div>"
      ],
      "text/plain": [
       "         City      Lat       Lng  Max Temp  Humidity  Cloudiness  Wind Speed  \\\n",
       "0      palana  59.1167  159.9667    -19.93        93          68        3.45   \n",
       "1  butaritari   3.0707  172.7902     26.91        83         100        7.60   \n",
       "2        surt  31.2089   16.5887     13.59        54          90        8.04   \n",
       "3      albany  42.6001  -73.9662      4.94        58         100        2.11   \n",
       "4     ushuaia -54.8000  -68.3000      2.49        90          72        0.92   \n",
       "\n",
       "  Country        Date  \n",
       "0      RU  1675646295  \n",
       "1      KI  1675646195  \n",
       "2      LY  1675646301  \n",
       "3      US  1675645949  \n",
       "4      AR  1675646150  "
      ]
     },
     "execution_count": 7,
     "metadata": {},
     "output_type": "execute_result"
    }
   ],
   "source": [
    "# Display sample data\n",
    "city_data_df.head()"
   ]
  },
  {
   "cell_type": "code",
   "execution_count": 8,
   "metadata": {},
   "outputs": [],
   "source": [
    "# Export the City_Data into a csv\n",
    "city_data_df.to_csv(\"output_data/cities.csv\", index_label=\"City_ID\")"
   ]
  },
  {
   "cell_type": "code",
   "execution_count": 9,
   "metadata": {},
   "outputs": [
    {
     "data": {
      "text/html": [
       "<div>\n",
       "<style scoped>\n",
       "    .dataframe tbody tr th:only-of-type {\n",
       "        vertical-align: middle;\n",
       "    }\n",
       "\n",
       "    .dataframe tbody tr th {\n",
       "        vertical-align: top;\n",
       "    }\n",
       "\n",
       "    .dataframe thead th {\n",
       "        text-align: right;\n",
       "    }\n",
       "</style>\n",
       "<table border=\"1\" class=\"dataframe\">\n",
       "  <thead>\n",
       "    <tr style=\"text-align: right;\">\n",
       "      <th></th>\n",
       "      <th>City</th>\n",
       "      <th>Lat</th>\n",
       "      <th>Lng</th>\n",
       "      <th>Max Temp</th>\n",
       "      <th>Humidity</th>\n",
       "      <th>Cloudiness</th>\n",
       "      <th>Wind Speed</th>\n",
       "      <th>Country</th>\n",
       "      <th>Date</th>\n",
       "    </tr>\n",
       "    <tr>\n",
       "      <th>City_ID</th>\n",
       "      <th></th>\n",
       "      <th></th>\n",
       "      <th></th>\n",
       "      <th></th>\n",
       "      <th></th>\n",
       "      <th></th>\n",
       "      <th></th>\n",
       "      <th></th>\n",
       "      <th></th>\n",
       "    </tr>\n",
       "  </thead>\n",
       "  <tbody>\n",
       "    <tr>\n",
       "      <th>0</th>\n",
       "      <td>palana</td>\n",
       "      <td>59.1167</td>\n",
       "      <td>159.9667</td>\n",
       "      <td>-19.93</td>\n",
       "      <td>93</td>\n",
       "      <td>68</td>\n",
       "      <td>3.45</td>\n",
       "      <td>RU</td>\n",
       "      <td>1675646295</td>\n",
       "    </tr>\n",
       "    <tr>\n",
       "      <th>1</th>\n",
       "      <td>butaritari</td>\n",
       "      <td>3.0707</td>\n",
       "      <td>172.7902</td>\n",
       "      <td>26.91</td>\n",
       "      <td>83</td>\n",
       "      <td>100</td>\n",
       "      <td>7.60</td>\n",
       "      <td>KI</td>\n",
       "      <td>1675646195</td>\n",
       "    </tr>\n",
       "    <tr>\n",
       "      <th>2</th>\n",
       "      <td>surt</td>\n",
       "      <td>31.2089</td>\n",
       "      <td>16.5887</td>\n",
       "      <td>13.59</td>\n",
       "      <td>54</td>\n",
       "      <td>90</td>\n",
       "      <td>8.04</td>\n",
       "      <td>LY</td>\n",
       "      <td>1675646301</td>\n",
       "    </tr>\n",
       "    <tr>\n",
       "      <th>3</th>\n",
       "      <td>albany</td>\n",
       "      <td>42.6001</td>\n",
       "      <td>-73.9662</td>\n",
       "      <td>4.94</td>\n",
       "      <td>58</td>\n",
       "      <td>100</td>\n",
       "      <td>2.11</td>\n",
       "      <td>US</td>\n",
       "      <td>1675645949</td>\n",
       "    </tr>\n",
       "    <tr>\n",
       "      <th>4</th>\n",
       "      <td>ushuaia</td>\n",
       "      <td>-54.8000</td>\n",
       "      <td>-68.3000</td>\n",
       "      <td>2.49</td>\n",
       "      <td>90</td>\n",
       "      <td>72</td>\n",
       "      <td>0.92</td>\n",
       "      <td>AR</td>\n",
       "      <td>1675646150</td>\n",
       "    </tr>\n",
       "  </tbody>\n",
       "</table>\n",
       "</div>"
      ],
      "text/plain": [
       "               City      Lat       Lng  Max Temp  Humidity  Cloudiness  \\\n",
       "City_ID                                                                  \n",
       "0            palana  59.1167  159.9667    -19.93        93          68   \n",
       "1        butaritari   3.0707  172.7902     26.91        83         100   \n",
       "2              surt  31.2089   16.5887     13.59        54          90   \n",
       "3            albany  42.6001  -73.9662      4.94        58         100   \n",
       "4           ushuaia -54.8000  -68.3000      2.49        90          72   \n",
       "\n",
       "         Wind Speed Country        Date  \n",
       "City_ID                                  \n",
       "0              3.45      RU  1675646295  \n",
       "1              7.60      KI  1675646195  \n",
       "2              8.04      LY  1675646301  \n",
       "3              2.11      US  1675645949  \n",
       "4              0.92      AR  1675646150  "
      ]
     },
     "execution_count": 9,
     "metadata": {},
     "output_type": "execute_result"
    }
   ],
   "source": [
    "# Read saved data\n",
    "city_data_df = pd.read_csv(\"output_data/cities.csv\", index_col=\"City_ID\")\n",
    "\n",
    "# Display sample data\n",
    "city_data_df.head()"
   ]
  },
  {
   "cell_type": "code",
   "execution_count": 19,
   "metadata": {},
   "outputs": [
    {
     "data": {
      "text/plain": [
       "City           object\n",
       "Lat           float64\n",
       "Lng           float64\n",
       "Max Temp      float64\n",
       "Humidity        int64\n",
       "Cloudiness      int64\n",
       "Wind Speed    float64\n",
       "Country        object\n",
       "Date            int64\n",
       "dtype: object"
      ]
     },
     "execution_count": 19,
     "metadata": {},
     "output_type": "execute_result"
    }
   ],
   "source": [
    "city_data_df.dtypes"
   ]
  },
  {
   "cell_type": "markdown",
   "metadata": {},
   "source": [
    "### Create the Scatter Plots Requested\n",
    "\n",
    "#### Latitude Vs. Temperature"
   ]
  },
  {
   "cell_type": "code",
   "execution_count": 44,
   "metadata": {
    "tags": []
   },
   "outputs": [
    {
     "data": {
      "image/png": "[encoded data removed]",
      "text/plain": [
       "<Figure size 432x288 with 1 Axes>"
      ]
     },
     "metadata": {
      "needs_background": "light"
     },
     "output_type": "display_data"
    }
   ],
   "source": [
    "# Build scatter plot for latitude vs. temperature\n",
    "Fig1 = plt.scatter(city_data_df[\"Lat\"], city_data_df[\"Max Temp\"], alpha = 0.75, edgecolors = 'black')\n",
    "\n",
    "# Incorporate the other graph properties\n",
    "plt.xlim(-61,85)\n",
    "plt.ylim(-50,40)\n",
    "plt.xlabel(\"Latitude\")\n",
    "plt.ylabel(\"Max Temperature (C)\")\n",
    "plt.title(\"City Latitude vs. Max Temperature (2023-02-05)\")\n",
    "plt.grid()\n",
    "\n",
    "# Save the figure\n",
    "plt.savefig(\"output_data/Fig1.png\")\n",
    "\n",
    "# Show plot\n",
    "plt.show()"
   ]
  },
  {
   "cell_type": "markdown",
   "metadata": {},
   "source": [
    "#### Latitude Vs. Humidity"
   ]
  },
  {
   "cell_type": "code",
   "execution_count": 46,
   "metadata": {},
   "outputs": [
    {
     "data": {
      "image/png": "[encoded data removed]",
      "text/plain": [
       "<Figure size 432x288 with 1 Axes>"
      ]
     },
     "metadata": {
      "needs_background": "light"
     },
     "output_type": "display_data"
    }
   ],
   "source": [
    "# Build the scatter plots for latitude vs. humidity\n",
    "Fig2 = plt.scatter(city_data_df[\"Lat\"], city_data_df[\"Humidity\"], alpha = 0.75, edgecolors = 'black')\n",
    "\n",
    "# Incorporate the other graph properties\n",
    "plt.xlim(-61,85)\n",
    "plt.ylim(0,105)\n",
    "plt.xlabel(\"Latitude\")\n",
    "plt.ylabel(\"Humidity (%)\")\n",
    "plt.title(\"City Latitude vs. Humidity (2023-02-05)\")\n",
    "plt.grid()\n",
    "\n",
    "# Save the figure\n",
    "plt.savefig(\"output_data/Fig2.png\")\n",
    "\n",
    "# Show plot\n",
    "plt.show()"
   ]
  },
  {
   "cell_type": "markdown",
   "metadata": {},
   "source": [
    "#### Latitude Vs. Cloudiness"
   ]
  },
  {
   "cell_type": "code",
   "execution_count": 49,
   "metadata": {},
   "outputs": [
    {
     "data": {
      "image/png": "[encoded data removed]",
      "text/plain": [
       "<Figure size 432x288 with 1 Axes>"
      ]
     },
     "metadata": {
      "needs_background": "light"
     },
     "output_type": "display_data"
    }
   ],
   "source": [
    "# Build the scatter plots for latitude vs. cloudiness\n",
    "Fig3 = plt.scatter(city_data_df[\"Lat\"], city_data_df[\"Cloudiness\"], alpha = 0.75, edgecolors = 'black')\n",
    "\n",
    "# Incorporate the other graph properties\n",
    "plt.xlim(-61,85)\n",
    "plt.ylim(-5,105)\n",
    "plt.xlabel(\"Latitude\")\n",
    "plt.ylabel(\"Cloudiness (%)\")\n",
    "plt.title(\"City Latitude vs. Cloudiness (2023-02-05)\")\n",
    "plt.grid()\n",
    "\n",
    "# Save the figure\n",
    "plt.savefig(\"output_data/Fig3.png\")\n",
    "\n",
    "# Show plot\n",
    "plt.show()"
   ]
  },
  {
   "cell_type": "markdown",
   "metadata": {},
   "source": [
    "#### Latitude vs. Wind Speed Plot"
   ]
  },
  {
   "cell_type": "code",
   "execution_count": 56,
   "metadata": {},
   "outputs": [
    {
     "data": {
      "image/png": "[encoded data removed]",
      "text/plain": [
       "<Figure size 432x288 with 1 Axes>"
      ]
     },
     "metadata": {
      "needs_background": "light"
     },
     "output_type": "display_data"
    }
   ],
   "source": [
    "# Build the scatter plots for latitude vs. wind speed\n",
    "Fig4 = plt.scatter(city_data_df[\"Lat\"], city_data_df[\"Wind Speed\"], alpha = 0.75, edgecolors = 'black')\n",
    "\n",
    "# Incorporate the other graph properties\n",
    "plt.xlim(-61,85)\n",
    "plt.ylim(-1,20)\n",
    "plt.xlabel(\"Latitude\")\n",
    "plt.ylabel(\"Wind Speed (m/s)\")\n",
    "plt.title(\"City Latitude vs. Wind Speed (2023-02-05)\")\n",
    "plt.grid()\n",
    "\n",
    "# Save the figure\n",
    "plt.savefig(\"output_data/Fig4.png\")\n",
    "\n",
    "# Show plot\n",
    "plt.show()"
   ]
  },
  {
   "cell_type": "markdown",
   "metadata": {},
   "source": [
    "---\n",
    "\n",
    "## Requirement 2: Compute Linear Regression for Each Relationship\n"
   ]
  },
  {
   "cell_type": "code",
   "execution_count": 98,
   "metadata": {},
   "outputs": [],
   "source": [
    "# Define a function to create Linear Regression plots\n",
    "def plotmaker(x, y, ylabel):\n",
    "    # Creating Linear Regression Values\n",
    "    slope, intercept, rvalue, pvalue, stderr = linregress(x, y)\n",
    "    reg_values = slope * x + intercept\n",
    "    line_eq = f\"y = {round(slope,2)} * x + {round(intercept,2)}\"\n",
    "    \n",
    "    # Printing r-value\n",
    "    print(f\"The r-value is: {rvalue}\")\n",
    "    \n",
    "    # Creating the plot\n",
    "    plt.scatter(x, y)\n",
    "    plt.plot(x, reg_values, 'r-')\n",
    "    plt.annotate(line_eq, (x.min()+5,y.min()+5), fontsize = 10, color = \"red\")\n",
    "    plt.xlabel(\"Latitude\")\n",
    "    plt.ylabel(ylabel)\n",
    "    plt.xlim(x.min() - 5, x.max() + 5)\n",
    "    plt.ylim(y.min() - 5, y.max() + 5)\n"
   ]
  },
  {
   "cell_type": "code",
   "execution_count": 62,
   "metadata": {},
   "outputs": [
    {
     "data": {
      "text/html": [
       "<div>\n",
       "<style scoped>\n",
       "    .dataframe tbody tr th:only-of-type {\n",
       "        vertical-align: middle;\n",
       "    }\n",
       "\n",
       "    .dataframe tbody tr th {\n",
       "        vertical-align: top;\n",
       "    }\n",
       "\n",
       "    .dataframe thead th {\n",
       "        text-align: right;\n",
       "    }\n",
       "</style>\n",
       "<table border=\"1\" class=\"dataframe\">\n",
       "  <thead>\n",
       "    <tr style=\"text-align: right;\">\n",
       "      <th></th>\n",
       "      <th>City</th>\n",
       "      <th>Lat</th>\n",
       "      <th>Lng</th>\n",
       "      <th>Max Temp</th>\n",
       "      <th>Humidity</th>\n",
       "      <th>Cloudiness</th>\n",
       "      <th>Wind Speed</th>\n",
       "      <th>Country</th>\n",
       "      <th>Date</th>\n",
       "    </tr>\n",
       "    <tr>\n",
       "      <th>City_ID</th>\n",
       "      <th></th>\n",
       "      <th></th>\n",
       "      <th></th>\n",
       "      <th></th>\n",
       "      <th></th>\n",
       "      <th></th>\n",
       "      <th></th>\n",
       "      <th></th>\n",
       "      <th></th>\n",
       "    </tr>\n",
       "  </thead>\n",
       "  <tbody>\n",
       "    <tr>\n",
       "      <th>0</th>\n",
       "      <td>palana</td>\n",
       "      <td>59.1167</td>\n",
       "      <td>159.9667</td>\n",
       "      <td>-19.93</td>\n",
       "      <td>93</td>\n",
       "      <td>68</td>\n",
       "      <td>3.45</td>\n",
       "      <td>RU</td>\n",
       "      <td>1675646295</td>\n",
       "    </tr>\n",
       "    <tr>\n",
       "      <th>1</th>\n",
       "      <td>butaritari</td>\n",
       "      <td>3.0707</td>\n",
       "      <td>172.7902</td>\n",
       "      <td>26.91</td>\n",
       "      <td>83</td>\n",
       "      <td>100</td>\n",
       "      <td>7.60</td>\n",
       "      <td>KI</td>\n",
       "      <td>1675646195</td>\n",
       "    </tr>\n",
       "    <tr>\n",
       "      <th>2</th>\n",
       "      <td>surt</td>\n",
       "      <td>31.2089</td>\n",
       "      <td>16.5887</td>\n",
       "      <td>13.59</td>\n",
       "      <td>54</td>\n",
       "      <td>90</td>\n",
       "      <td>8.04</td>\n",
       "      <td>LY</td>\n",
       "      <td>1675646301</td>\n",
       "    </tr>\n",
       "    <tr>\n",
       "      <th>3</th>\n",
       "      <td>albany</td>\n",
       "      <td>42.6001</td>\n",
       "      <td>-73.9662</td>\n",
       "      <td>4.94</td>\n",
       "      <td>58</td>\n",
       "      <td>100</td>\n",
       "      <td>2.11</td>\n",
       "      <td>US</td>\n",
       "      <td>1675645949</td>\n",
       "    </tr>\n",
       "    <tr>\n",
       "      <th>9</th>\n",
       "      <td>kysyl-syr</td>\n",
       "      <td>63.8986</td>\n",
       "      <td>122.7617</td>\n",
       "      <td>-46.66</td>\n",
       "      <td>100</td>\n",
       "      <td>88</td>\n",
       "      <td>1.65</td>\n",
       "      <td>RU</td>\n",
       "      <td>1675646308</td>\n",
       "    </tr>\n",
       "  </tbody>\n",
       "</table>\n",
       "</div>"
      ],
      "text/plain": [
       "               City      Lat       Lng  Max Temp  Humidity  Cloudiness  \\\n",
       "City_ID                                                                  \n",
       "0            palana  59.1167  159.9667    -19.93        93          68   \n",
       "1        butaritari   3.0707  172.7902     26.91        83         100   \n",
       "2              surt  31.2089   16.5887     13.59        54          90   \n",
       "3            albany  42.6001  -73.9662      4.94        58         100   \n",
       "9         kysyl-syr  63.8986  122.7617    -46.66       100          88   \n",
       "\n",
       "         Wind Speed Country        Date  \n",
       "City_ID                                  \n",
       "0              3.45      RU  1675646295  \n",
       "1              7.60      KI  1675646195  \n",
       "2              8.04      LY  1675646301  \n",
       "3              2.11      US  1675645949  \n",
       "9              1.65      RU  1675646308  "
      ]
     },
     "execution_count": 62,
     "metadata": {},
     "output_type": "execute_result"
    }
   ],
   "source": [
    "# Create a DataFrame with the Northern Hemisphere data (Latitude >= 0)\n",
    "northern_hemi_df = city_data_df.loc[city_data_df[\"Lat\"] >= 0, :]\n",
    "\n",
    "# Display sample data\n",
    "northern_hemi_df.head()"
   ]
  },
  {
   "cell_type": "code",
   "execution_count": 64,
   "metadata": {},
   "outputs": [
    {
     "data": {
      "text/html": [
       "<div>\n",
       "<style scoped>\n",
       "    .dataframe tbody tr th:only-of-type {\n",
       "        vertical-align: middle;\n",
       "    }\n",
       "\n",
       "    .dataframe tbody tr th {\n",
       "        vertical-align: top;\n",
       "    }\n",
       "\n",
       "    .dataframe thead th {\n",
       "        text-align: right;\n",
       "    }\n",
       "</style>\n",
       "<table border=\"1\" class=\"dataframe\">\n",
       "  <thead>\n",
       "    <tr style=\"text-align: right;\">\n",
       "      <th></th>\n",
       "      <th>City</th>\n",
       "      <th>Lat</th>\n",
       "      <th>Lng</th>\n",
       "      <th>Max Temp</th>\n",
       "      <th>Humidity</th>\n",
       "      <th>Cloudiness</th>\n",
       "      <th>Wind Speed</th>\n",
       "      <th>Country</th>\n",
       "      <th>Date</th>\n",
       "    </tr>\n",
       "    <tr>\n",
       "      <th>City_ID</th>\n",
       "      <th></th>\n",
       "      <th></th>\n",
       "      <th></th>\n",
       "      <th></th>\n",
       "      <th></th>\n",
       "      <th></th>\n",
       "      <th></th>\n",
       "      <th></th>\n",
       "      <th></th>\n",
       "    </tr>\n",
       "  </thead>\n",
       "  <tbody>\n",
       "    <tr>\n",
       "      <th>4</th>\n",
       "      <td>ushuaia</td>\n",
       "      <td>-54.8000</td>\n",
       "      <td>-68.3000</td>\n",
       "      <td>2.49</td>\n",
       "      <td>90</td>\n",
       "      <td>72</td>\n",
       "      <td>0.92</td>\n",
       "      <td>AR</td>\n",
       "      <td>1675646150</td>\n",
       "    </tr>\n",
       "    <tr>\n",
       "      <th>5</th>\n",
       "      <td>rikitea</td>\n",
       "      <td>-23.1203</td>\n",
       "      <td>-134.9692</td>\n",
       "      <td>26.19</td>\n",
       "      <td>75</td>\n",
       "      <td>3</td>\n",
       "      <td>6.27</td>\n",
       "      <td>PF</td>\n",
       "      <td>1675646199</td>\n",
       "    </tr>\n",
       "    <tr>\n",
       "      <th>6</th>\n",
       "      <td>lebu</td>\n",
       "      <td>-37.6167</td>\n",
       "      <td>-73.6500</td>\n",
       "      <td>16.11</td>\n",
       "      <td>90</td>\n",
       "      <td>1</td>\n",
       "      <td>8.10</td>\n",
       "      <td>CL</td>\n",
       "      <td>1675646022</td>\n",
       "    </tr>\n",
       "    <tr>\n",
       "      <th>7</th>\n",
       "      <td>new norfolk</td>\n",
       "      <td>-42.7826</td>\n",
       "      <td>147.0587</td>\n",
       "      <td>22.18</td>\n",
       "      <td>52</td>\n",
       "      <td>50</td>\n",
       "      <td>2.68</td>\n",
       "      <td>AU</td>\n",
       "      <td>1675646191</td>\n",
       "    </tr>\n",
       "    <tr>\n",
       "      <th>8</th>\n",
       "      <td>punta arenas</td>\n",
       "      <td>-53.1500</td>\n",
       "      <td>-70.9167</td>\n",
       "      <td>10.06</td>\n",
       "      <td>71</td>\n",
       "      <td>75</td>\n",
       "      <td>9.77</td>\n",
       "      <td>CL</td>\n",
       "      <td>1675646199</td>\n",
       "    </tr>\n",
       "  </tbody>\n",
       "</table>\n",
       "</div>"
      ],
      "text/plain": [
       "                 City      Lat       Lng  Max Temp  Humidity  Cloudiness  \\\n",
       "City_ID                                                                    \n",
       "4             ushuaia -54.8000  -68.3000      2.49        90          72   \n",
       "5             rikitea -23.1203 -134.9692     26.19        75           3   \n",
       "6                lebu -37.6167  -73.6500     16.11        90           1   \n",
       "7         new norfolk -42.7826  147.0587     22.18        52          50   \n",
       "8        punta arenas -53.1500  -70.9167     10.06        71          75   \n",
       "\n",
       "         Wind Speed Country        Date  \n",
       "City_ID                                  \n",
       "4              0.92      AR  1675646150  \n",
       "5              6.27      PF  1675646199  \n",
       "6              8.10      CL  1675646022  \n",
       "7              2.68      AU  1675646191  \n",
       "8              9.77      CL  1675646199  "
      ]
     },
     "execution_count": 64,
     "metadata": {},
     "output_type": "execute_result"
    }
   ],
   "source": [
    "# Create a DataFrame with the Southern Hemisphere data (Latitude < 0)\n",
    "southern_hemi_df = city_data_df.loc[city_data_df[\"Lat\"] < 0, :]\n",
    "\n",
    "# Display sample data\n",
    "southern_hemi_df.head()"
   ]
  },
  {
   "cell_type": "markdown",
   "metadata": {},
   "source": [
    "###  Temperature vs. Latitude Linear Regression Plot"
   ]
  },
  {
   "cell_type": "code",
   "execution_count": 99,
   "metadata": {},
   "outputs": [
    {
     "name": "stdout",
     "output_type": "stream",
     "text": [
      "The r-value is: -0.8580131968233441\n"
     ]
    },
    {
     "data": {
      "image/png": "[encoded data removed]",
      "text/plain": [
       "<Figure size 432x288 with 1 Axes>"
      ]
     },
     "metadata": {
      "needs_background": "light"
     },
     "output_type": "display_data"
    }
   ],
   "source": [
    "# Linear regression on Northern Hemisphere\n",
    "plotmaker(northern_hemi_df[\"Lat\"], northern_hemi_df[\"Max Temp\"], \"Max Temp\")"
   ]
  },
  {
   "cell_type": "code",
   "execution_count": 100,
   "metadata": {},
   "outputs": [
    {
     "name": "stdout",
     "output_type": "stream",
     "text": [
      "The r-value is: 0.4192415295942212\n"
     ]
    },
    {
     "data": {
      "image/png": "[encoded data removed]",
      "text/plain": [
       "<Figure size 432x288 with 1 Axes>"
      ]
     },
     "metadata": {
      "needs_background": "light"
     },
     "output_type": "display_data"
    }
   ],
   "source": [
    "# Linear regression on Southern Hemisphere\n",
    "plotmaker(southern_hemi_df[\"Lat\"], southern_hemi_df[\"Max Temp\"], \"Max Temp\")"
   ]
  },
  {
   "cell_type": "markdown",
   "metadata": {},
   "source": [
    "**Discussion about the linear relationship:** In the Northern Hemisphere, we see a negative relationship between latitude and max temperature, but in the Southern Hemispher, we see a positive relationship between the two. This could be explained by the fact that places near the equator (latitude = 0) experience higher temperatures overall. With the Northern Hemisphere graph going away from the equator, we see a negative relationship, and with the Southern Hemisphere graph going towards the equator, we see a positive relationship "
   ]
  },
  {
   "cell_type": "markdown",
   "metadata": {},
   "source": [
    "### Humidity vs. Latitude Linear Regression Plot"
   ]
  },
  {
   "cell_type": "code",
   "execution_count": 101,
   "metadata": {},
   "outputs": [
    {
     "name": "stdout",
     "output_type": "stream",
     "text": [
      "The r-value is: 0.4180934371391076\n"
     ]
    },
    {
     "data": {
      "image/png": "[encoded data removed]",
      "text/plain": [
       "<Figure size 432x288 with 1 Axes>"
      ]
     },
     "metadata": {
      "needs_background": "light"
     },
     "output_type": "display_data"
    }
   ],
   "source": [
    "# Northern Hemisphere\n",
    "plotmaker(northern_hemi_df[\"Lat\"], northern_hemi_df[\"Humidity\"], \"Humidity\")"
   ]
  },
  {
   "cell_type": "code",
   "execution_count": 102,
   "metadata": {},
   "outputs": [
    {
     "name": "stdout",
     "output_type": "stream",
     "text": [
      "The r-value is: 0.3349570514432313\n"
     ]
    },
    {
     "data": {
      "image/png": "[encoded data removed]",
      "text/plain": [
       "<Figure size 432x288 with 1 Axes>"
      ]
     },
     "metadata": {
      "needs_background": "light"
     },
     "output_type": "display_data"
    }
   ],
   "source": [
    "# Southern Hemisphere\n",
    "plotmaker(southern_hemi_df[\"Lat\"], southern_hemi_df[\"Humidity\"], \"Humidity\")"
   ]
  },
  {
   "cell_type": "markdown",
   "metadata": {},
   "source": [
    "**Discussion about the linear relationship:** We see positive relationships in both hemispheres, but looking at each r-squared values (Nothern: 0.418, Southern: 0.335), we see that latitude explains a low percentage of humidity's variance. So we cannot say if the relationship is strong between latitude and humidity."
   ]
  },
  {
   "cell_type": "markdown",
   "metadata": {},
   "source": [
    "### Cloudiness vs. Latitude Linear Regression Plot"
   ]
  },
  {
   "cell_type": "code",
   "execution_count": 103,
   "metadata": {},
   "outputs": [
    {
     "name": "stdout",
     "output_type": "stream",
     "text": [
      "The r-value is: 0.2141980236437468\n"
     ]
    },
    {
     "data": {
      "image/png": "[encoded data removed]",
      "text/plain": [
       "<Figure size 432x288 with 1 Axes>"
      ]
     },
     "metadata": {
      "needs_background": "light"
     },
     "output_type": "display_data"
    }
   ],
   "source": [
    "# Northern Hemisphere\n",
    "plotmaker(northern_hemi_df[\"Lat\"], northern_hemi_df[\"Cloudiness\"], \"Cloudiness\")"
   ]
  },
  {
   "cell_type": "code",
   "execution_count": 104,
   "metadata": {},
   "outputs": [
    {
     "name": "stdout",
     "output_type": "stream",
     "text": [
      "The r-value is: 0.22504293948299847\n"
     ]
    },
    {
     "data": {
      "image/png": "[encoded data removed]",
      "text/plain": [
       "<Figure size 432x288 with 1 Axes>"
      ]
     },
     "metadata": {
      "needs_background": "light"
     },
     "output_type": "display_data"
    }
   ],
   "source": [
    "# Southern Hemisphere\n",
    "plotmaker(southern_hemi_df[\"Lat\"], southern_hemi_df[\"Cloudiness\"], \"Cloudiness\")"
   ]
  },
  {
   "cell_type": "markdown",
   "metadata": {},
   "source": [
    "**Discussion about the linear relationship:** In both hemispheres, we see that there is no relationship between latitude and cloudiness."
   ]
  },
  {
   "cell_type": "markdown",
   "metadata": {},
   "source": [
    "### Wind Speed vs. Latitude Linear Regression Plot"
   ]
  },
  {
   "cell_type": "code",
   "execution_count": 105,
   "metadata": {},
   "outputs": [
    {
     "name": "stdout",
     "output_type": "stream",
     "text": [
      "The r-value is: 0.05164537167435908\n"
     ]
    },
    {
     "data": {
      "image/png": "[encoded data removed]",
      "text/plain": [
       "<Figure size 432x288 with 1 Axes>"
      ]
     },
     "metadata": {
      "needs_background": "light"
     },
     "output_type": "display_data"
    }
   ],
   "source": [
    "# Northern Hemisphere\n",
    "plotmaker(northern_hemi_df[\"Lat\"], northern_hemi_df[\"Wind Speed\"], \"Wind Speed\")"
   ]
  },
  {
   "cell_type": "code",
   "execution_count": 106,
   "metadata": {},
   "outputs": [
    {
     "name": "stdout",
     "output_type": "stream",
     "text": [
      "The r-value is: -0.3611787227164014\n"
     ]
    },
    {
     "data": {
      "image/png": "[encoded data removed]",
      "text/plain": [
       "<Figure size 432x288 with 1 Axes>"
      ]
     },
     "metadata": {
      "needs_background": "light"
     },
     "output_type": "display_data"
    }
   ],
   "source": [
    "# Southern Hemisphere\n",
    "plotmaker(southern_hemi_df[\"Lat\"], southern_hemi_df[\"Wind Speed\"], \"Wind Speed\")"
   ]
  },
  {
   "cell_type": "markdown",
   "metadata": {},
   "source": [
    "**Discussion about the linear relationship:** In both hemispheres, we see that there is no relationship between latitude and wind speed. "
   ]
  },
  {
   "cell_type": "code",
   "execution_count": null,
   "metadata": {},
   "outputs": [],
   "source": []
  }
 ],
 "metadata": {
  "anaconda-cloud": {},
  "kernel_info": {
   "name": "python3"
  },
  "kernelspec": {
   "display_name": "Python 3",
   "language": "python",
   "name": "python3"
  },
  "language_info": {
   "codemirror_mode": {
    "name": "ipython",
    "version": 3
   },
   "file_extension": ".py",
   "mimetype": "text/x-python",
   "name": "python",
   "nbconvert_exporter": "python",
   "pygments_lexer": "ipython3",
   "version": "3.8.8"
  },
  "latex_envs": {
   "LaTeX_envs_menu_present": true,
   "autoclose": false,
   "autocomplete": true,
   "bibliofile": "biblio.bib",
   "cite_by": "apalike",
   "current_citInitial": 1,
   "eqLabelWithNumbers": true,
   "eqNumInitial": 1,
   "hotkeys": {
    "equation": "Ctrl-E",
    "itemize": "Ctrl-I"
   },
   "labels_anchors": false,
   "latex_user_defs": false,
   "report_style_numbering": false,
   "user_envs_cfg": false
  },
  "nteract": {
   "version": "0.12.3"
  }
 },
 "nbformat": 4,
 "nbformat_minor": 4
}
